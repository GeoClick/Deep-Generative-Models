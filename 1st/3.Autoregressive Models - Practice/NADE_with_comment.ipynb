{
 "cells": [
  {
   "cell_type": "markdown",
   "metadata": {
    "colab_type": "text",
    "id": "BVB9OEsrgrsX"
   },
   "source": [
    "# NADE (Neural Autoregressive Distribution Estimation)"
   ]
  },
  {
   "cell_type": "markdown",
   "metadata": {
    "colab_type": "text",
    "id": "OolSmchYgrse"
   },
   "source": [
    "https://github.com/modulabs/Deep-Generative-Models/blob/master/1st/3.Autoregressive%20Models%20-%20Practice/NADE.ipynb"
   ]
  },
  {
   "cell_type": "code",
   "execution_count": 5,
   "metadata": {
    "colab": {
     "base_uri": "https://localhost:8080/",
     "height": 67
    },
    "colab_type": "code",
    "collapsed": false,
    "executionInfo": {
     "elapsed": 2607,
     "status": "ok",
     "timestamp": 1548596045684,
     "user": {
      "displayName": "­곽유영[ 학부재학 / 산업경영공학부 ]",
      "photoUrl": "",
      "userId": "00569916233257548955"
     },
     "user_tz": -540
    },
    "id": "y-r0VVAPgrsi",
    "outputId": "6c60a628-bec8-46d7-8e33-c3215169971b"
   },
   "outputs": [
    {
     "name": "stdout",
     "output_type": "stream",
     "text": [
      "Downloading data from https://storage.googleapis.com/tensorflow/tf-keras-datasets/mnist.npz\n",
      "11493376/11490434 [==============================] - 0s 0us/step\n",
      "11501568/11490434 [==============================] - 0s 0us/step\n"
     ]
    }
   ],
   "source": [
    "import numpy as np\n",
    "import tensorflow as tf\n",
    "mnist = tf.keras.datasets.mnist\n",
    "\n",
    "(x_train, y_train), (x_test, y_test) = mnist.load_data()\n",
    "x_train, x_test = x_train / 255.0, x_test / 255.0"
   ]
  },
  {
   "cell_type": "code",
   "execution_count": 6,
   "metadata": {
    "colab": {
     "base_uri": "https://localhost:8080/",
     "height": 258
    },
    "colab_type": "code",
    "collapsed": false,
    "executionInfo": {
     "elapsed": 2219,
     "status": "ok",
     "timestamp": 1548596045687,
     "user": {
      "displayName": "­곽유영[ 학부재학 / 산업경영공학부 ]",
      "photoUrl": "",
      "userId": "00569916233257548955"
     },
     "user_tz": -540
    },
    "id": "SXm3in_ogrsv",
    "outputId": "a2f8f464-2220-4b2c-eea2-46e39fae902d"
   },
   "outputs": [
    {
     "data": {
      "image/png": "[encoded data removed]",
      "text/plain": [
       "<Figure size 288x288 with 2 Axes>"
      ]
     },
     "metadata": {
      "tags": []
     },
     "output_type": "display_data"
    }
   ],
   "source": [
    "import matplotlib.pyplot as plt\n",
    "plt.figure(figsize = [4,4])   # 보여줄 크기\n",
    "plt.imshow(x_train[1], cmap='gray')\n",
    "plt.colorbar()\n",
    "plt.show()"
   ]
  },
  {
   "cell_type": "code",
   "execution_count": 0,
   "metadata": {
    "colab": {},
    "colab_type": "code",
    "collapsed": true,
    "id": "k9uJb7clgrtA"
   },
   "outputs": [],
   "source": [
    "# Hyperparameters\n",
    "\n",
    "Batch = None\n",
    "Height = 28\n",
    "Width = 28\n",
    "Xdim = Height * Width\n",
    "Hdim = 500"
   ]
  },
  {
   "cell_type": "code",
   "execution_count": 8,
   "metadata": {
    "colab": {
     "base_uri": "https://localhost:8080/",
     "height": 134
    },
    "colab_type": "code",
    "collapsed": false,
    "executionInfo": {
     "elapsed": 1525,
     "status": "ok",
     "timestamp": 1548596045693,
     "user": {
      "displayName": "­곽유영[ 학부재학 / 산업경영공학부 ]",
      "photoUrl": "",
      "userId": "00569916233257548955"
     },
     "user_tz": -540
    },
    "id": "XKK0baw0grtI",
    "outputId": "c30d4697-647c-416c-83e9-3634e186abb4"
   },
   "outputs": [
    {
     "name": "stdout",
     "output_type": "stream",
     "text": [
      "[[0. 0. 0. ... 0. 0. 0.]\n",
      " [1. 0. 0. ... 0. 0. 0.]\n",
      " [1. 1. 0. ... 0. 0. 0.]\n",
      " ...\n",
      " [1. 1. 1. ... 0. 0. 0.]\n",
      " [1. 1. 1. ... 1. 0. 0.]\n",
      " [1. 1. 1. ... 1. 1. 0.]]\n"
     ]
    }
   ],
   "source": [
    "_mask = np.fromfunction(lambda i, j: i > j, [Xdim, Xdim], dtype=int).astype(np.float32)\n",
    "print(_mask)"
   ]
  },
  {
   "cell_type": "code",
   "execution_count": 11,
   "metadata": {
    "colab": {
     "base_uri": "https://localhost:8080/",
     "height": 118
    },
    "colab_type": "code",
    "collapsed": false,
    "executionInfo": {
     "elapsed": 77108,
     "status": "ok",
     "timestamp": 1548596162393,
     "user": {
      "displayName": "­곽유영[ 학부재학 / 산업경영공학부 ]",
      "photoUrl": "",
      "userId": "00569916233257548955"
     },
     "user_tz": -540
    },
    "id": "y5iSUcJPgrtT",
    "outputId": "dd033e50-7e2f-4d38-f1c0-e9f2e10e23af"
   },
   "outputs": [
    {
     "data": {
      "application/vnd.jupyter.widget-view+json": {
       "model_id": "77d1380ccd6a4594be569fa30a2c83ea",
       "version_major": 2,
       "version_minor": 0
      },
      "text/plain": [
       "HBox(children=(IntProgress(value=0, max=784), HTML(value=u'')))"
      ]
     },
     "metadata": {
      "tags": []
     },
     "output_type": "display_data"
    },
    {
     "name": "stdout",
     "output_type": "stream",
     "text": [
      "\n"
     ]
    },
    {
     "data": {
      "application/vnd.jupyter.widget-view+json": {
       "model_id": "7e3c16b7564549339097948aec2b1560",
       "version_major": 2,
       "version_minor": 0
      },
      "text/plain": [
       "HBox(children=(IntProgress(value=0, max=784), HTML(value=u'')))"
      ]
     },
     "metadata": {
      "tags": []
     },
     "output_type": "display_data"
    },
    {
     "name": "stdout",
     "output_type": "stream",
     "text": [
      "\n",
      "Tensor(\"stack:0\", shape=(?, 784), dtype=float32)\n",
      "done\n"
     ]
    }
   ],
   "source": [
    "from tqdm import tqdm_notebook as tqdm\n",
    "tf.reset_default_graph()\n",
    "\n",
    "# placeholder for data\n",
    "X = tf.placeholder(dtype=tf.float32, shape=[Batch, Height * Width])  # image가 flatten된 형태\n",
    "X_past = tf.concat([tf.zeros(shape=[tf.shape(X)[0], 1]), X[:, :-1]], axis=1)  # 1-dim (flatten) 기준으로 concat -> 해당 dim의 개수가 바뀜\n",
    "# tf.shape(X)[0] = Batch\n",
    "# 첫 열은 0, 나머지 오른쪽 열은 X와 같음 (X의 제일 마지막 열 제외)\n",
    "# 결국, X_past 도 concat( (Batch, 1), (Batch, tf.shape(X)[1]-1), axis =1 ) -> (Batch, tf.shape(X)[1]) -> X와 같은 shape\n",
    "# x_past -> for hidden layer\n",
    "\n",
    "W = tf.get_variable('W', shape=[Xdim, Hdim], dtype=tf.float32)\n",
    "c = tf.get_variable('c', shape=[Hdim], dtype=tf.float32)\n",
    "\n",
    "# list of hidden layers\n",
    "hidden_list = []\n",
    "for i in tqdm(range(Xdim)):  # Xdim만큼의 hidden layer 생성\n",
    "    hidden = tf.nn.tanh(tf.matmul(X_past[:, :i], W[:i]) + c)  # @ = tf.matmul\n",
    "    # i = 1; X_past[:, :i] == 원소가 전부 0인 (Batch, 1) shape 행렬 -> hidden_list[1] = 원소가 전부 c이고 shape이 (Batch, 1)인 행렬\n",
    "    hidden_list.append(hidden)\n",
    "    # tf.shape(hidden_list[i]) == (Batch, (i+1))\n",
    "\n",
    "outputs_list = []\n",
    "outputs_prob_list = []\n",
    "for i in tqdm(range(Xdim)):\n",
    "    outputs = tf.layers.dense(hidden_list[i], 1, name='output_layer' + str(i))\n",
    "    #  tf.layers.dense(inputs, units, ...)\n",
    "    #     _Output tensor the same shape as inputs except the last dimension is of size units   == (Batch, 1)\n",
    "    outputs = tf.squeeze(outputs, axis=1)\n",
    "    outputs_list.append(outputs)\n",
    "    outputs_prob_list.append(tf.nn.sigmoid(outputs))\n",
    "    \n",
    "outputs = tf.stack(outputs_list, axis = 1)  # values, axis = 0  // 0-dim은 유지한채 stack  ->  처읨 flattened과 같은 형태\n",
    "outputs_prob = tf.nn.sigmoid(outputs)\n",
    "print(outputs)\n",
    "\n",
    "\n",
    "# cross entropy = tf.nn.sigmoid_cross_entropy_with_logits(labels=X, logits=output)\n",
    "cross_entropy = -(X * tf.log(outputs_prob) + (1. - X) * tf.log(1. - outputs_prob))\n",
    "loss = tf.reduce_mean(cross_entropy)\n",
    "\n",
    "# optimization\n",
    "optim = tf.train.AdamOptimizer(learning_rate=1e-4).minimize(loss)\n",
    "\n",
    "# session create\n",
    "sess = tf.Session()\n",
    "sess.run(tf.global_variables_initializer())\n",
    "\n",
    "print('done')"
   ]
  },
  {
   "cell_type": "code",
   "execution_count": 21,
   "metadata": {
    "colab": {
     "base_uri": "https://localhost:8080/",
     "height": 8434
    },
    "colab_type": "code",
    "collapsed": false,
    "executionInfo": {
     "elapsed": 151048,
     "status": "ok",
     "timestamp": 1548598350892,
     "user": {
      "displayName": "­곽유영[ 학부재학 / 산업경영공학부 ]",
      "photoUrl": "",
      "userId": "00569916233257548955"
     },
     "user_tz": -540
    },
    "id": "rHGbLCjXgrtc",
    "outputId": "a503327a-59d3-48f9-8645-10dc17c5b676",
    "scrolled": true
   },
   "outputs": [
    {
     "data": {
      "application/vnd.jupyter.widget-view+json": {
       "model_id": "c4c3d77d0d434a88a14a60ed87fdf800",
       "version_major": 2,
       "version_minor": 0
      },
      "text/plain": [
       "HBox(children=(IntProgress(value=0, max=500), HTML(value=u'')))"
      ]
     },
     "metadata": {
      "tags": []
     },
     "output_type": "display_data"
    },
    {
     "name": "stdout",
     "output_type": "stream",
     "text": [
      "('loss : ', 0.16493732)\n",
      "('loss : ', 0.15636255)\n",
      "('loss : ', 0.15558057)\n",
      "('loss : ', 0.15617299)\n",
      "('loss : ', 0.15540132)\n",
      "('loss : ', 0.14944826)\n",
      "('loss : ', 0.16589789)\n",
      "('loss : ', 0.15354072)\n",
      "('loss : ', 0.16541275)\n",
      "('loss : ', 0.16096143)\n",
      "('loss : ', 0.16354041)\n",
      "('loss : ', 0.15671922)\n",
      "('loss : ', 0.15538158)\n",
      "('loss : ', 0.16935582)\n",
      "('loss : ', 0.15811054)\n",
      "('loss : ', 0.15988706)\n",
      "('loss : ', 0.15844347)\n",
      "('loss : ', 0.16190387)\n",
      "('loss : ', 0.15848969)\n",
      "('loss : ', 0.15929857)\n",
      "('loss : ', 0.17277232)\n",
      "('loss : ', 0.15978794)\n",
      "('loss : ', 0.15569806)\n",
      "('loss : ', 0.16280511)\n",
      "('loss : ', 0.15506758)\n",
      "('loss : ', 0.1593484)\n",
      "('loss : ', 0.15996179)\n",
      "('loss : ', 0.17101999)\n",
      "('loss : ', 0.16186957)\n",
      "('loss : ', 0.15600249)\n",
      "('loss : ', 0.158542)\n",
      "('loss : ', 0.15773572)\n",
      "('loss : ', 0.15636899)\n",
      "('loss : ', 0.15786621)\n",
      "('loss : ', 0.15513591)\n",
      "('loss : ', 0.1551669)\n",
      "('loss : ', 0.16701138)\n",
      "('loss : ', 0.16156903)\n",
      "('loss : ', 0.15918913)\n",
      "('loss : ', 0.15628754)\n",
      "('loss : ', 0.16420151)\n",
      "('loss : ', 0.1626752)\n",
      "('loss : ', 0.15757939)\n",
      "('loss : ', 0.15364997)\n",
      "('loss : ', 0.16199945)\n",
      "('loss : ', 0.16451967)\n",
      "('loss : ', 0.15759349)\n",
      "('loss : ', 0.16275556)\n",
      "('loss : ', 0.15357625)\n",
      "('loss : ', 0.15852776)\n",
      "('loss : ', 0.16519609)\n",
      "('loss : ', 0.16059777)\n",
      "('loss : ', 0.15736477)\n",
      "('loss : ', 0.16205217)\n",
      "('loss : ', 0.1597645)\n",
      "('loss : ', 0.1597716)\n",
      "('loss : ', 0.1612137)\n",
      "('loss : ', 0.16305798)\n",
      "('loss : ', 0.15932027)\n",
      "('loss : ', 0.15852706)\n",
      "('loss : ', 0.15594026)\n",
      "('loss : ', 0.16199344)\n",
      "('loss : ', 0.15308122)\n",
      "('loss : ', 0.15399599)\n",
      "('loss : ', 0.16101348)\n",
      "('loss : ', 0.1568229)\n",
      "('loss : ', 0.15969533)\n",
      "('loss : ', 0.1557677)\n",
      "('loss : ', 0.15270478)\n",
      "('loss : ', 0.15997434)\n",
      "('loss : ', 0.16543657)\n",
      "('loss : ', 0.15718059)\n",
      "('loss : ', 0.15762682)\n",
      "('loss : ', 0.16111149)\n",
      "('loss : ', 0.15284695)\n",
      "('loss : ', 0.15977512)\n",
      "('loss : ', 0.15535852)\n",
      "('loss : ', 0.16837083)\n",
      "('loss : ', 0.16163488)\n",
      "('loss : ', 0.15980683)\n",
      "('loss : ', 0.16332507)\n",
      "('loss : ', 0.16322511)\n",
      "('loss : ', 0.16265602)\n",
      "('loss : ', 0.15981717)\n",
      "('loss : ', 0.16303125)\n",
      "('loss : ', 0.15128896)\n",
      "('loss : ', 0.15366167)\n",
      "('loss : ', 0.15375692)\n",
      "('loss : ', 0.15382169)\n",
      "('loss : ', 0.15734626)\n",
      "('loss : ', 0.15402423)\n",
      "('loss : ', 0.15826382)\n",
      "('loss : ', 0.1614907)\n",
      "('loss : ', 0.15645319)\n",
      "('loss : ', 0.1499621)\n",
      "('loss : ', 0.15236649)\n",
      "('loss : ', 0.15476002)\n",
      "('loss : ', 0.15819412)\n",
      "('loss : ', 0.1576245)\n",
      "('loss : ', 0.1550066)\n",
      "('loss : ', 0.15119392)\n",
      "('loss : ', 0.14820048)\n",
      "('loss : ', 0.15456286)\n",
      "('loss : ', 0.15665919)\n",
      "('loss : ', 0.1567377)\n",
      "('loss : ', 0.15501817)\n",
      "('loss : ', 0.1598959)\n",
      "('loss : ', 0.15546471)\n",
      "('loss : ', 0.15645516)\n",
      "('loss : ', 0.15219936)\n",
      "('loss : ', 0.15780318)\n",
      "('loss : ', 0.1566429)\n",
      "('loss : ', 0.15835893)\n",
      "('loss : ', 0.15536465)\n",
      "('loss : ', 0.15381858)\n",
      "('loss : ', 0.14835753)\n",
      "('loss : ', 0.15166877)\n",
      "('loss : ', 0.15389372)\n",
      "('loss : ', 0.14926499)\n",
      "('loss : ', 0.15478778)\n",
      "('loss : ', 0.16122608)\n",
      "('loss : ', 0.15610386)\n",
      "('loss : ', 0.1548502)\n",
      "('loss : ', 0.15586095)\n",
      "('loss : ', 0.15977608)\n",
      "('loss : ', 0.16264658)\n",
      "('loss : ', 0.15564317)\n",
      "('loss : ', 0.15752698)\n",
      "('loss : ', 0.15285036)\n",
      "('loss : ', 0.1592151)\n",
      "('loss : ', 0.15724127)\n",
      "('loss : ', 0.15914224)\n",
      "('loss : ', 0.16086589)\n",
      "('loss : ', 0.15403047)\n",
      "('loss : ', 0.16243784)\n",
      "('loss : ', 0.15432134)\n",
      "('loss : ', 0.15935965)\n",
      "('loss : ', 0.15309942)\n",
      "('loss : ', 0.15246587)\n",
      "('loss : ', 0.15528002)\n",
      "('loss : ', 0.15486826)\n",
      "('loss : ', 0.16499165)\n",
      "('loss : ', 0.15344627)\n",
      "('loss : ', 0.15398331)\n",
      "('loss : ', 0.16395491)\n",
      "('loss : ', 0.1513016)\n",
      "('loss : ', 0.15197034)\n",
      "('loss : ', 0.15935218)\n",
      "('loss : ', 0.16027687)\n",
      "('loss : ', 0.15901364)\n",
      "('loss : ', 0.15584515)\n",
      "('loss : ', 0.15740523)\n",
      "('loss : ', 0.15631428)\n",
      "('loss : ', 0.15551828)\n",
      "('loss : ', 0.15232098)\n",
      "('loss : ', 0.15400147)\n",
      "('loss : ', 0.15381622)\n",
      "('loss : ', 0.15793073)\n",
      "('loss : ', 0.15856558)\n",
      "('loss : ', 0.15253296)\n",
      "('loss : ', 0.15639244)\n",
      "('loss : ', 0.15254106)\n",
      "('loss : ', 0.15399726)\n",
      "('loss : ', 0.15519172)\n",
      "('loss : ', 0.15725678)\n",
      "('loss : ', 0.15451242)\n",
      "('loss : ', 0.14873725)\n",
      "('loss : ', 0.15206568)\n",
      "('loss : ', 0.15496321)\n",
      "('loss : ', 0.15430972)\n",
      "('loss : ', 0.14858678)\n",
      "('loss : ', 0.15333149)\n",
      "('loss : ', 0.15043142)\n",
      "('loss : ', 0.15412821)\n",
      "('loss : ', 0.15374215)\n",
      "('loss : ', 0.15751584)\n",
      "('loss : ', 0.15596838)\n",
      "('loss : ', 0.15867163)\n",
      "('loss : ', 0.15919332)\n",
      "('loss : ', 0.14211106)\n",
      "('loss : ', 0.15160896)\n",
      "('loss : ', 0.1496058)\n",
      "('loss : ', 0.15358645)\n",
      "('loss : ', 0.15508263)\n",
      "('loss : ', 0.15552817)\n",
      "('loss : ', 0.15035602)\n",
      "('loss : ', 0.15882953)\n",
      "('loss : ', 0.16236645)\n",
      "('loss : ', 0.15374425)\n",
      "('loss : ', 0.1502635)\n",
      "('loss : ', 0.15455666)\n",
      "('loss : ', 0.15918982)\n",
      "('loss : ', 0.15292293)\n",
      "('loss : ', 0.15000728)\n",
      "('loss : ', 0.15144049)\n",
      "('loss : ', 0.15647937)\n",
      "('loss : ', 0.14956823)\n",
      "('loss : ', 0.15467484)\n",
      "('loss : ', 0.15884088)\n",
      "('loss : ', 0.1621542)\n",
      "('loss : ', 0.14946602)\n",
      "('loss : ', 0.15353109)\n",
      "('loss : ', 0.15690362)\n",
      "('loss : ', 0.14101127)\n",
      "('loss : ', 0.15218368)\n",
      "('loss : ', 0.164176)\n",
      "('loss : ', 0.14879988)\n",
      "('loss : ', 0.1571161)\n",
      "('loss : ', 0.15415747)\n",
      "('loss : ', 0.15398899)\n",
      "('loss : ', 0.15045314)\n",
      "('loss : ', 0.14538251)\n",
      "('loss : ', 0.15344976)\n",
      "('loss : ', 0.15621796)\n",
      "('loss : ', 0.15307184)\n",
      "('loss : ', 0.14805058)\n",
      "('loss : ', 0.15131408)\n",
      "('loss : ', 0.15559816)\n",
      "('loss : ', 0.16004623)\n",
      "('loss : ', 0.16249585)\n",
      "('loss : ', 0.15613876)\n",
      "('loss : ', 0.15605038)\n",
      "('loss : ', 0.1505912)\n",
      "('loss : ', 0.15639246)\n",
      "('loss : ', 0.15926085)\n",
      "('loss : ', 0.1494672)\n",
      "('loss : ', 0.1519607)\n",
      "('loss : ', 0.15061441)\n",
      "('loss : ', 0.15859495)\n",
      "('loss : ', 0.15275866)\n",
      "('loss : ', 0.15642469)\n",
      "('loss : ', 0.15298069)\n",
      "('loss : ', 0.15665671)\n",
      "('loss : ', 0.15713224)\n",
      "('loss : ', 0.15909302)\n",
      "('loss : ', 0.15103091)\n",
      "('loss : ', 0.15716219)\n",
      "('loss : ', 0.14633374)\n",
      "('loss : ', 0.15276393)\n",
      "('loss : ', 0.1533609)\n",
      "('loss : ', 0.14923526)\n",
      "('loss : ', 0.14908995)\n",
      "('loss : ', 0.15798335)\n",
      "('loss : ', 0.1536635)\n",
      "('loss : ', 0.15298602)\n",
      "('loss : ', 0.15744986)\n",
      "('loss : ', 0.15630251)\n",
      "('loss : ', 0.15014559)\n",
      "('loss : ', 0.15612707)\n",
      "('loss : ', 0.14806554)\n",
      "('loss : ', 0.1516261)\n",
      "('loss : ', 0.14389205)\n",
      "('loss : ', 0.15103418)\n",
      "('loss : ', 0.14653663)\n",
      "('loss : ', 0.15322301)\n",
      "('loss : ', 0.15413895)\n",
      "('loss : ', 0.15376839)\n",
      "('loss : ', 0.15775163)\n",
      "('loss : ', 0.15080816)\n",
      "('loss : ', 0.15812004)\n",
      "('loss : ', 0.14903946)\n",
      "('loss : ', 0.15866284)\n",
      "('loss : ', 0.15509403)\n",
      "('loss : ', 0.15090908)\n",
      "('loss : ', 0.14709702)\n",
      "('loss : ', 0.15418833)\n",
      "('loss : ', 0.15667324)\n",
      "('loss : ', 0.1525543)\n",
      "('loss : ', 0.14344193)\n",
      "('loss : ', 0.15710565)\n",
      "('loss : ', 0.15392439)\n",
      "('loss : ', 0.15106907)\n",
      "('loss : ', 0.15221255)\n",
      "('loss : ', 0.1510406)\n",
      "('loss : ', 0.15762827)\n",
      "('loss : ', 0.14775364)\n",
      "('loss : ', 0.15265657)\n",
      "('loss : ', 0.14902641)\n",
      "('loss : ', 0.16165647)\n",
      "('loss : ', 0.14904997)\n",
      "('loss : ', 0.15776634)\n",
      "('loss : ', 0.1493306)\n",
      "('loss : ', 0.15191226)\n",
      "('loss : ', 0.15418646)\n",
      "('loss : ', 0.15534939)\n",
      "('loss : ', 0.15671991)\n",
      "('loss : ', 0.15307486)\n",
      "('loss : ', 0.14885025)\n",
      "('loss : ', 0.1547201)\n",
      "('loss : ', 0.15449026)\n",
      "('loss : ', 0.1569799)\n",
      "('loss : ', 0.15599383)\n",
      "('loss : ', 0.1566823)\n",
      "('loss : ', 0.14320697)\n",
      "('loss : ', 0.15272439)\n",
      "('loss : ', 0.15231575)\n",
      "('loss : ', 0.14736028)\n",
      "('loss : ', 0.1463503)\n",
      "('loss : ', 0.14995772)\n",
      "('loss : ', 0.14269327)\n",
      "('loss : ', 0.15491667)\n",
      "('loss : ', 0.15336658)\n",
      "('loss : ', 0.14773381)\n",
      "('loss : ', 0.14967957)\n",
      "('loss : ', 0.1469175)\n",
      "('loss : ', 0.14643249)\n",
      "('loss : ', 0.15248446)\n",
      "('loss : ', 0.15241885)\n",
      "('loss : ', 0.15646109)\n",
      "('loss : ', 0.1537292)\n",
      "('loss : ', 0.15718839)\n",
      "('loss : ', 0.15740182)\n",
      "('loss : ', 0.16388467)\n",
      "('loss : ', 0.15428083)\n",
      "('loss : ', 0.15232517)\n",
      "('loss : ', 0.14766859)\n",
      "('loss : ', 0.15073968)\n",
      "('loss : ', 0.15280358)\n",
      "('loss : ', 0.15387271)\n",
      "('loss : ', 0.15986903)\n",
      "('loss : ', 0.157421)\n",
      "('loss : ', 0.15481868)\n",
      "('loss : ', 0.14581163)\n",
      "('loss : ', 0.1539494)\n",
      "('loss : ', 0.15256554)\n",
      "('loss : ', 0.15464161)\n",
      "('loss : ', 0.15646617)\n",
      "('loss : ', 0.15823455)\n",
      "('loss : ', 0.15468408)\n",
      "('loss : ', 0.15214707)\n",
      "('loss : ', 0.16114135)\n",
      "('loss : ', 0.15340313)\n",
      "('loss : ', 0.1526716)\n",
      "('loss : ', 0.1445938)\n",
      "('loss : ', 0.15351403)\n",
      "('loss : ', 0.15407787)\n",
      "('loss : ', 0.14722513)\n",
      "('loss : ', 0.14857085)\n",
      "('loss : ', 0.14978907)\n",
      "('loss : ', 0.15110005)\n",
      "('loss : ', 0.15398474)\n",
      "('loss : ', 0.15053916)\n",
      "('loss : ', 0.15810683)\n",
      "('loss : ', 0.15149333)\n",
      "('loss : ', 0.15876654)\n",
      "('loss : ', 0.15378886)\n",
      "('loss : ', 0.15729727)\n",
      "('loss : ', 0.14430729)\n",
      "('loss : ', 0.15268114)\n",
      "('loss : ', 0.15545213)\n",
      "('loss : ', 0.1495716)\n",
      "('loss : ', 0.15412994)\n",
      "('loss : ', 0.14442906)\n",
      "('loss : ', 0.15152934)\n",
      "('loss : ', 0.15417115)\n",
      "('loss : ', 0.15315479)\n",
      "('loss : ', 0.15366305)\n",
      "('loss : ', 0.15033835)\n",
      "('loss : ', 0.15314509)\n",
      "('loss : ', 0.15247743)\n",
      "('loss : ', 0.14810078)\n",
      "('loss : ', 0.14939758)\n",
      "('loss : ', 0.14913899)\n",
      "('loss : ', 0.14919545)\n",
      "('loss : ', 0.15253569)\n",
      "('loss : ', 0.15739346)\n",
      "('loss : ', 0.1530784)\n",
      "('loss : ', 0.15449172)\n",
      "('loss : ', 0.15561296)\n",
      "('loss : ', 0.15735658)\n",
      "('loss : ', 0.13958772)\n",
      "('loss : ', 0.14882144)\n",
      "('loss : ', 0.15585265)\n",
      "('loss : ', 0.15210551)\n",
      "('loss : ', 0.15029812)\n",
      "('loss : ', 0.15505667)\n",
      "('loss : ', 0.14249428)\n",
      "('loss : ', 0.14715828)\n",
      "('loss : ', 0.15061975)\n",
      "('loss : ', 0.14723672)\n",
      "('loss : ', 0.1495057)\n",
      "('loss : ', 0.15599176)\n",
      "('loss : ', 0.15298437)\n",
      "('loss : ', 0.151391)\n",
      "('loss : ', 0.15428355)\n",
      "('loss : ', 0.14368363)\n",
      "('loss : ', 0.14522766)\n",
      "('loss : ', 0.14927672)\n",
      "('loss : ', 0.15766901)\n",
      "('loss : ', 0.15053393)\n",
      "('loss : ', 0.14996223)\n",
      "('loss : ', 0.15379542)\n",
      "('loss : ', 0.15062009)\n",
      "('loss : ', 0.14904329)\n",
      "('loss : ', 0.15261982)\n",
      "('loss : ', 0.15562627)\n",
      "('loss : ', 0.15445575)\n",
      "('loss : ', 0.1512232)\n",
      "('loss : ', 0.1558489)\n",
      "('loss : ', 0.15619045)\n",
      "('loss : ', 0.14474294)\n",
      "('loss : ', 0.15637857)\n",
      "('loss : ', 0.14905837)\n",
      "('loss : ', 0.15500367)\n",
      "('loss : ', 0.14987499)\n",
      "('loss : ', 0.14561456)\n",
      "('loss : ', 0.14950612)\n",
      "('loss : ', 0.14413896)\n",
      "('loss : ', 0.14442508)\n",
      "('loss : ', 0.14835817)\n",
      "('loss : ', 0.1526449)\n",
      "('loss : ', 0.15055501)\n",
      "('loss : ', 0.1520603)\n",
      "('loss : ', 0.13892287)\n",
      "('loss : ', 0.14532478)\n",
      "('loss : ', 0.15404698)\n",
      "('loss : ', 0.14871861)\n",
      "('loss : ', 0.15182514)\n",
      "('loss : ', 0.15763783)\n",
      "('loss : ', 0.14972626)\n",
      "('loss : ', 0.14857207)\n",
      "('loss : ', 0.14920741)\n",
      "('loss : ', 0.1451375)\n",
      "('loss : ', 0.14909023)\n",
      "('loss : ', 0.14188984)\n",
      "('loss : ', 0.1493169)\n",
      "('loss : ', 0.14620991)\n",
      "('loss : ', 0.15192552)\n",
      "('loss : ', 0.14663775)\n",
      "('loss : ', 0.15089893)\n",
      "('loss : ', 0.14868784)\n",
      "('loss : ', 0.15522933)\n",
      "('loss : ', 0.1448309)\n",
      "('loss : ', 0.14715992)\n",
      "('loss : ', 0.14210312)\n",
      "('loss : ', 0.14922135)\n",
      "('loss : ', 0.15396407)\n",
      "('loss : ', 0.14784104)\n",
      "('loss : ', 0.1524159)\n",
      "('loss : ', 0.14893764)\n",
      "('loss : ', 0.1495575)\n",
      "('loss : ', 0.15441386)\n",
      "('loss : ', 0.15403162)\n",
      "('loss : ', 0.1508406)\n",
      "('loss : ', 0.15123564)\n",
      "('loss : ', 0.15043418)\n",
      "('loss : ', 0.14844911)\n",
      "('loss : ', 0.1482611)\n",
      "('loss : ', 0.15013051)\n",
      "('loss : ', 0.14309393)\n",
      "('loss : ', 0.15733401)\n",
      "('loss : ', 0.15428275)\n",
      "('loss : ', 0.14808464)\n",
      "('loss : ', 0.1472504)\n",
      "('loss : ', 0.15443558)\n",
      "('loss : ', 0.15791905)\n",
      "('loss : ', 0.15190941)\n",
      "('loss : ', 0.1477953)\n",
      "('loss : ', 0.15188392)\n",
      "('loss : ', 0.13809942)\n",
      "('loss : ', 0.14424594)\n",
      "('loss : ', 0.15208986)\n",
      "('loss : ', 0.15309206)\n",
      "('loss : ', 0.14655909)\n",
      "('loss : ', 0.15151262)\n",
      "('loss : ', 0.14802124)\n",
      "('loss : ', 0.1533229)\n",
      "('loss : ', 0.14554538)\n",
      "('loss : ', 0.15240642)\n",
      "('loss : ', 0.1503157)\n",
      "('loss : ', 0.15053561)\n",
      "('loss : ', 0.14166795)\n",
      "('loss : ', 0.15031359)\n",
      "('loss : ', 0.1473646)\n",
      "('loss : ', 0.15270258)\n",
      "('loss : ', 0.14873196)\n",
      "('loss : ', 0.15397437)\n",
      "('loss : ', 0.14829642)\n",
      "('loss : ', 0.15092213)\n",
      "('loss : ', 0.14990507)\n",
      "('loss : ', 0.1517983)\n",
      "('loss : ', 0.15130338)\n",
      "('loss : ', 0.14677039)\n",
      "('loss : ', 0.15320714)\n",
      "('loss : ', 0.14928465)\n",
      "('loss : ', 0.14194508)\n",
      "('loss : ', 0.14546439)\n",
      "('loss : ', 0.14837034)\n",
      "('loss : ', 0.1481871)\n",
      "('loss : ', 0.15109164)\n",
      "('loss : ', 0.14242406)\n",
      "('loss : ', 0.14484076)\n",
      "('loss : ', 0.15185235)\n",
      "('loss : ', 0.15282214)\n",
      "('loss : ', 0.13948835)\n",
      "('loss : ', 0.14679468)\n",
      "('loss : ', 0.143852)\n",
      "('loss : ', 0.1443109)\n",
      "('loss : ', 0.1440216)\n",
      "('loss : ', 0.15483747)\n"
     ]
    }
   ],
   "source": [
    "from IPython.display import clear_output\n",
    "from tqdm import tqdm_notebook as tqdm\n",
    "\n",
    "batch_size = 100\n",
    "\n",
    "#while(True):\n",
    "for _ in tqdm(range(500)):\n",
    "    indexes = np.random.randint(0, len(x_train), batch_size)   # low, high, size -> Return random integers from low (inclusive) to high (exclusive).\n",
    "    # indexes's shape = (Batch, )\n",
    "    _X = x_train[indexes]  # x_train에서 mini-batch 가져옴\n",
    "    _X = np.reshape(_X + 0.5, [_X.shape[0], -1]).astype(np.int)\n",
    "    #    => (_X + 0.5)를 내림한 것을 (batch, )로 reshape\n",
    "    # _X shape : (batch, 28*28)\n",
    "\n",
    "    _, _loss, _outputs = sess.run([optim, loss, outputs_prob], feed_dict={X: _X})\n",
    "    print('loss : ', _loss)\n",
    "\n",
    "#clear_output()"
   ]
  },
  {
   "cell_type": "code",
   "execution_count": 22,
   "metadata": {
    "colab": {
     "base_uri": "https://localhost:8080/",
     "height": 351
    },
    "colab_type": "code",
    "collapsed": false,
    "executionInfo": {
     "elapsed": 147016,
     "status": "ok",
     "timestamp": 1548598350894,
     "user": {
      "displayName": "­곽유영[ 학부재학 / 산업경영공학부 ]",
      "photoUrl": "",
      "userId": "00569916233257548955"
     },
     "user_tz": -540
    },
    "id": "azDJMwgQkoz8",
    "outputId": "77527eb9-7172-4fb2-c521-06c1a870f598"
   },
   "outputs": [
    {
     "data": {
      "image/png": "[encoded data removed]",
      "text/plain": [
       "<Figure size 576x396 with 2 Axes>"
      ]
     },
     "metadata": {
      "tags": []
     },
     "output_type": "display_data"
    }
   ],
   "source": [
    "# _X shape : (batch, 28*28)\n",
    "_X = np.reshape(_X[0], [28, 28])   # -> (batch, 28, 28)\n",
    "plt.imshow(_X, cmap='gray')\n",
    "plt.colorbar()\n",
    "plt.show()"
   ]
  },
  {
   "cell_type": "code",
   "execution_count": 23,
   "metadata": {
    "colab": {
     "base_uri": "https://localhost:8080/",
     "height": 347
    },
    "colab_type": "code",
    "collapsed": false,
    "executionInfo": {
     "elapsed": 114961,
     "status": "ok",
     "timestamp": 1548598351245,
     "user": {
      "displayName": "­곽유영[ 학부재학 / 산업경영공학부 ]",
      "photoUrl": "",
      "userId": "00569916233257548955"
     },
     "user_tz": -540
    },
    "id": "Y3Yte3wCkqlI",
    "outputId": "5d399bf9-6744-412f-abb5-a90210ac1305"
   },
   "outputs": [
    {
     "data": {
      "image/png": "[encoded data removed]",
      "text/plain": [
       "<Figure size 576x396 with 1 Axes>"
      ]
     },
     "metadata": {
      "tags": []
     },
     "output_type": "display_data"
    }
   ],
   "source": [
    "_outputs_0 = np.reshape(_outputs[0], [28, 28])\n",
    "plt.imshow(_outputs_0, cmap='gray')\n",
    "plt.show()"
   ]
  },
  {
   "cell_type": "code",
   "execution_count": 24,
   "metadata": {
    "colab": {
     "base_uri": "https://localhost:8080/",
     "height": 347
    },
    "colab_type": "code",
    "collapsed": false,
    "executionInfo": {
     "elapsed": 114809,
     "status": "ok",
     "timestamp": 1548598351582,
     "user": {
      "displayName": "­곽유영[ 학부재학 / 산업경영공학부 ]",
      "photoUrl": "",
      "userId": "00569916233257548955"
     },
     "user_tz": -540
    },
    "id": "Lm_3eRiPow4g",
    "outputId": "40857bea-b67e-474e-e08a-14cf99ad2c67"
   },
   "outputs": [
    {
     "data": {
      "image/png": "[encoded data removed]",
      "text/plain": [
       "<Figure size 576x396 with 1 Axes>"
      ]
     },
     "metadata": {
      "tags": []
     },
     "output_type": "display_data"
    }
   ],
   "source": [
    "_outputs_0_rint = np.rint(np.reshape(_outputs[0], [28, 28]))  # 픽셀값 소수 첫째자리 반올림\n",
    "plt.imshow(_outputs_0_rint, cmap='gray')\n",
    "plt.show()"
   ]
  },
  {
   "cell_type": "code",
   "execution_count": 17,
   "metadata": {
    "colab": {
     "base_uri": "https://localhost:8080/",
     "height": 590
    },
    "colab_type": "code",
    "collapsed": false,
    "executionInfo": {
     "elapsed": 137053,
     "status": "ok",
     "timestamp": 1548597360681,
     "user": {
      "displayName": "­곽유영[ 학부재학 / 산업경영공학부 ]",
      "photoUrl": "",
      "userId": "00569916233257548955"
     },
     "user_tz": -540
    },
    "id": "NOZ0XuWEkrnm",
    "outputId": "ca07c743-e007-4121-a446-7cc3ca1c92bd"
   },
   "outputs": [
    {
     "data": {
      "application/vnd.jupyter.widget-view+json": {
       "model_id": "9f3977290d22468b9d91c1b8f8f36b6a",
       "version_major": 2,
       "version_minor": 0
      },
      "text/plain": [
       "HBox(children=(IntProgress(value=0, max=784), HTML(value=u'')))"
      ]
     },
     "metadata": {
      "tags": []
     },
     "output_type": "display_data"
    },
    {
     "data": {
      "image/png": "[encoded data removed]",
      "text/plain": [
       "<Figure size 720x720 with 100 Axes>"
      ]
     },
     "metadata": {
      "tags": []
     },
     "output_type": "display_data"
    }
   ],
   "source": [
    "_X_sample = np.zeros(shape=[100, Xdim])\n",
    "for i in tqdm(range(Xdim)):\n",
    "    _X_predicted = sess.run(outputs_prob_list[i], feed_dict = {X: _X_sample})\n",
    "    for j, p in enumerate(_X_predicted):\n",
    "        _sample = np.random.binomial(1, p)\n",
    "        _X_sample[j, i] = _sample\n",
    "\n",
    "_X_sample = np.reshape(_X_sample, [_X_sample.shape[0], Height, Width])\n",
    "\n",
    "plt.figure(figsize=[10, 10])\n",
    "for i in range(100):\n",
    "    plt.subplot(10, 10, i+1)\n",
    "    plt.imshow(_X_sample[i], cmap='gray')\n",
    "    plt.xticks([])\n",
    "    plt.yticks([])\n",
    "plt.show()"
   ]
  },
  {
   "cell_type": "code",
   "execution_count": 25,
   "metadata": {
    "colab": {
     "base_uri": "https://localhost:8080/",
     "height": 590
    },
    "colab_type": "code",
    "collapsed": false,
    "executionInfo": {
     "elapsed": 5087,
     "status": "ok",
     "timestamp": 1548598727096,
     "user": {
      "displayName": "­곽유영[ 학부재학 / 산업경영공학부 ]",
      "photoUrl": "",
      "userId": "00569916233257548955"
     },
     "user_tz": -540
    },
    "id": "0KLVfAn_rKG-",
    "outputId": "98f9712d-b26c-40b7-b5b4-133c17ade70b"
   },
   "outputs": [
    {
     "data": {
      "application/vnd.jupyter.widget-view+json": {
       "model_id": "ca6ea9e77aa6423ba3118ff81deefafa",
       "version_major": 2,
       "version_minor": 0
      },
      "text/plain": [
       "HBox(children=(IntProgress(value=0, max=784), HTML(value=u'')))"
      ]
     },
     "metadata": {
      "tags": []
     },
     "output_type": "display_data"
    },
    {
     "data": {
      "image/png": "[encoded data removed]",
      "text/plain": [
       "<Figure size 720x720 with 100 Axes>"
      ]
     },
     "metadata": {
      "tags": []
     },
     "output_type": "display_data"
    }
   ],
   "source": [
    "_X_sample_2 = np.zeros(shape=[100, Xdim])\n",
    "for i in tqdm(range(Xdim)):\n",
    "    _X_predicted = sess.run(outputs_prob_list[i], feed_dict = {X: _X_sample_2})\n",
    "    for j, p in enumerate(_X_predicted):\n",
    "        _sample = np.random.binomial(1, p)\n",
    "        _X_sample_2[j, i] = _sample\n",
    "\n",
    "_X_sample_2 = np.rint(np.reshape(_X_sample_2, [_X_sample_2.shape[0], Height, Width]))  # 소수 첫째자리에서 반올림\n",
    "\n",
    "plt.figure(figsize=[10, 10])\n",
    "for i in range(100):\n",
    "    plt.subplot(10, 10, i+1)\n",
    "    plt.imshow(_X_sample_2[i], cmap='gray')\n",
    "    plt.xticks([])\n",
    "    plt.yticks([])\n",
    "plt.show()"
   ]
  },
  {
   "cell_type": "code",
   "execution_count": 18,
   "metadata": {
    "colab": {
     "base_uri": "https://localhost:8080/",
     "height": 34
    },
    "colab_type": "code",
    "collapsed": false,
    "executionInfo": {
     "elapsed": 117950,
     "status": "ok",
     "timestamp": 1548597360683,
     "user": {
      "displayName": "­곽유영[ 학부재학 / 산업경영공학부 ]",
      "photoUrl": "",
      "userId": "00569916233257548955"
     },
     "user_tz": -540
    },
    "id": "7lltIyGkgrtm",
    "outputId": "f28e37b1-87c0-4c92-f406-6ccfbca7e7d1"
   },
   "outputs": [
    {
     "name": "stdout",
     "output_type": "stream",
     "text": [
      "done\n"
     ]
    }
   ],
   "source": [
    "print('done')"
   ]
  },
  {
   "cell_type": "markdown",
   "metadata": {
    "colab_type": "text",
    "id": "EN5OFaydgrtu"
   },
   "source": [
    "## 새로운 함수 익히기"
   ]
  },
  {
   "cell_type": "markdown",
   "metadata": {
    "colab_type": "text",
    "id": "JM__ZLFcgrtw"
   },
   "source": [
    "##### np.fromfunction"
   ]
  },
  {
   "cell_type": "code",
   "execution_count": 0,
   "metadata": {
    "colab": {},
    "colab_type": "code",
    "collapsed": false,
    "id": "O048_lDegrt0",
    "outputId": "4405528a-eda6-441f-cecb-b97638f1ee92"
   },
   "outputs": [
    {
     "data": {
      "text/plain": [
       "array([[ True, False, False],\n",
       "       [False,  True, False],\n",
       "       [False, False,  True]])"
      ]
     },
     "execution_count": 9,
     "metadata": {
      "tags": []
     },
     "output_type": "execute_result"
    }
   ],
   "source": [
    "np.fromfunction(lambda i, j: i == j, (3, 3), dtype=int)  # function, shape, dtype"
   ]
  },
  {
   "cell_type": "code",
   "execution_count": 0,
   "metadata": {
    "colab": {},
    "colab_type": "code",
    "collapsed": false,
    "id": "bi6UaZVWgrt-",
    "outputId": "aead1295-c51f-470a-9e57-0c08569244c3"
   },
   "outputs": [
    {
     "data": {
      "text/plain": [
       "array([[False, False, False, False],\n",
       "       [ True, False, False, False],\n",
       "       [ True,  True, False, False],\n",
       "       [ True,  True,  True, False]])"
      ]
     },
     "execution_count": 12,
     "metadata": {
      "tags": []
     },
     "output_type": "execute_result"
    }
   ],
   "source": [
    "np.fromfunction(lambda i, j: i > j, (4, 4), dtype=int)"
   ]
  },
  {
   "cell_type": "markdown",
   "metadata": {
    "colab_type": "text",
    "id": "7pN-scMwgruI"
   },
   "source": [
    "##### tf.concat"
   ]
  },
  {
   "cell_type": "code",
   "execution_count": 0,
   "metadata": {
    "colab": {},
    "colab_type": "code",
    "collapsed": false,
    "id": "J1YrlF04gruK",
    "outputId": "0523200b-5f01-4a95-ff8a-3efe2c897222"
   },
   "outputs": [
    {
     "name": "stdout",
     "output_type": "stream",
     "text": [
      "(2, 3)\n",
      "Tensor(\"concat_2:0\", shape=(4, 3), dtype=int32)\n",
      "\n",
      "Tensor(\"concat_3:0\", shape=(2, 6), dtype=int32)\n"
     ]
    }
   ],
   "source": [
    "t1 = [[1, 2, 3], [4, 5, 6]]  # (2, 3)\n",
    "t2 = [[7, 8, 9], [10, 11, 12]]  # (2, 3)\n",
    "print(np.shape(t1))\n",
    "\n",
    "# tf.concat(values, axis, name='concat')  -> axis: Dimension along which to concatenate\n",
    "print(tf.concat([t1, t2], 0)) # [[1, 2, 3], [4, 5, 6], [7, 8, 9], [10, 11, 12]] \n",
    "#    => 0-dim, 즉 가장 첫번째 dim 기준으로 concatenate\n",
    "#        => 0-dim의 숫자가 바뀜. concat( (2,3), (2,3), axis = 0 )  => (4, 3)\n",
    "print()\n",
    "print(tf.concat([t1, t2], 1)) # [[1, 2, 3, 7, 8, 9], [4, 5, 6, 10, 11, 12]]\n",
    "#    => 1-dim 기준으로 concatenate\n",
    "#        => 1-dim의 숫자가 바뀜. concat( (2,3), (2,3), axis = 0 )  => (2, 6)"
   ]
  },
  {
   "cell_type": "markdown",
   "metadata": {
    "colab_type": "text",
    "id": "-E2XK6aEgruX"
   },
   "source": [
    "##### tf.get_variable()\n",
    "\n",
    "_Gets an existing variable with these parameters or create a new one.\n",
    "\n",
    "_This function prefixes the name with the current variable scope and performs reuse checks."
   ]
  },
  {
   "cell_type": "markdown",
   "metadata": {
    "colab_type": "text",
    "id": "1ex5SmPRgrua"
   },
   "source": [
    "##### tf.squeeze()\n",
    "\n",
    "Removes dimensions of size 1 from the shape of a tensor"
   ]
  },
  {
   "cell_type": "code",
   "execution_count": 0,
   "metadata": {
    "colab": {},
    "colab_type": "code",
    "collapsed": true,
    "id": "AEtpmo5agrud"
   },
   "outputs": [],
   "source": [
    "# 't' is a tensor of shape [1, 2, 1, 3, 1, 1]\n",
    "tf.shape(tf.squeeze(t))  # [2, 3]"
   ]
  },
  {
   "cell_type": "code",
   "execution_count": 0,
   "metadata": {
    "colab": {},
    "colab_type": "code",
    "collapsed": true,
    "id": "hYp9L7Y_grur"
   },
   "outputs": [],
   "source": [
    "# 't' is a tensor of shape [1, 2, 1, 3, 1, 1]\n",
    "tf.shape(tf.squeeze(t, [2, 4]))  # [1, 2, 3, 1]"
   ]
  },
  {
   "cell_type": "markdown",
   "metadata": {
    "colab_type": "text",
    "id": "QUb6WzmNgru0"
   },
   "source": [
    "##### tf.stack"
   ]
  },
  {
   "cell_type": "code",
   "execution_count": 0,
   "metadata": {
    "colab": {},
    "colab_type": "code",
    "collapsed": true,
    "id": "UBXhbtexgru8"
   },
   "outputs": [],
   "source": [
    "x = tf.constant([1, 4])  # shape (1,2)\n",
    "y = tf.constant([2, 5])  # shape (1,2)\n",
    "z = tf.constant([3, 6])\n",
    "tf.stack([x, y, z])  # [[1, 4], [2, 5], [3, 6]] (Pack along first dim.)\n",
    "tf.stack([x, y, z], axis=1)  # [[1, 2, 3], [4, 5, 6]]\n",
    "# axis = 1 기준으로 stack\n",
    "# => (1,2)인 것들을 axis=1 기준 stack하면, 1-dim의 값인 2는 유지한채 stack -> (3,2)"
   ]
  },
  {
   "cell_type": "markdown",
   "metadata": {
    "colab_type": "text",
    "id": "59U8ORaIgrvG"
   },
   "source": [
    "##### astype(np.int)"
   ]
  },
  {
   "cell_type": "code",
   "execution_count": 0,
   "metadata": {
    "colab": {},
    "colab_type": "code",
    "collapsed": true,
    "id": "l89xtffNgrvL"
   },
   "outputs": [],
   "source": [
    "a = np.array([1.3])\n",
    "print(a)\n",
    "_a = a.astype(np.int)\n",
    "print(_a)"
   ]
  }
 ],
 "metadata": {
  "accelerator": "GPU",
  "anaconda-cloud": {},
  "colab": {
   "collapsed_sections": [],
   "name": "190125_NADE.ipynb",
   "provenance": [],
   "version": "0.3.2"
  },
  "kernelspec": {
   "display_name": "Python [conda env:tensorflow]",
   "language": "python",
   "name": "conda-env-tensorflow-py"
  },
  "language_info": {
   "codemirror_mode": {
    "name": "ipython",
    "version": 3
   },
   "file_extension": ".py",
   "mimetype": "text/x-python",
   "name": "python",
   "nbconvert_exporter": "python",
   "pygments_lexer": "ipython3",
   "version": "3.5.4"
  }
 },
 "nbformat": 4,
 "nbformat_minor": 0
}
